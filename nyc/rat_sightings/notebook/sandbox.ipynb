{
 "cells": [
  {
   "cell_type": "code",
   "execution_count": null,
   "id": "initial_id",
   "metadata": {
    "collapsed": true
   },
   "outputs": [],
   "source": [
    "# Import necessary libraries\n",
    "import pandas as pd\n",
    "from sqlalchemy import create_engine\n",
    "from db_config import db_credentials  # Importing database credentials from a separate config file\n",
    "\n",
    "def create_db_engine(credentials):\n",
    "    \"\"\"Create a database engine using provided credentials.\"\"\"\n",
    "    engine_url = f'postgresql://{credentials[\"username\"]}:{credentials[\"password\"]}@{credentials[\"host\"]}:{credentials[\"port\"]}/{credentials[\"database\"]}'\n",
    "    engine = create_engine(engine_url)\n",
    "    return engine\n"
   ]
  },
  {
   "cell_type": "code",
   "execution_count": null,
   "outputs": [],
   "source": [
    "# Load Data into DataFrame\n",
    "try:\n",
    "    engine = create_db_engine(db_credentials)\n",
    "    query = \"SELECT * FROM rat_sightings\"  # Modify the query as needed\n",
    "    df = pd.read_sql(query, engine)\n",
    "except Exception as e:\n",
    "    print(f\"An error occurred while loading data: {e}\")\n",
    "    "
   ],
   "metadata": {
    "collapsed": false
   },
   "id": "abc52eb5f51805d3"
  },
  {
   "cell_type": "code",
   "execution_count": null,
   "outputs": [],
   "source": [
    "# Analyze Data\n",
    "try:\n",
    "    # Count rows and columns\n",
    "    row_count = len(df)\n",
    "    column_count = len(df.columns)\n",
    "    print(f\"Number of Rows: {row_count}\")\n",
    "    print(f\"Number of Columns: {column_count}\")\n",
    "\n",
    "    # Find earliest and latest dates\n",
    "    earliest_date = df['created_date'].min()\n",
    "    latest_date = df['created_date'].max()\n",
    "    print(f\"Earliest Date: {earliest_date}\")\n",
    "    print(f\"Latest Date: {latest_date}\")\n",
    "except NameError:\n",
    "    print(\"DataFrame not loaded. Ensure the data loading cell ran successfully.\")\n"
   ],
   "metadata": {
    "collapsed": false
   },
   "id": "ca426336faaa1316"
  },
  {
   "cell_type": "code",
   "execution_count": null,
   "outputs": [],
   "source": [
    "# Display Column Names\n",
    "try:\n",
    "    column_names = df.columns.tolist()\n",
    "    print(f\"Column Names: {column_names}\")\n",
    "except NameError:\n",
    "    print(\"DataFrame not loaded. Ensure the data loading cell ran successfully.\")\n",
    "    "
   ],
   "metadata": {
    "collapsed": false
   },
   "id": "628feee6f9548c42"
  }
 ],
 "metadata": {
  "kernelspec": {
   "display_name": "Python 3",
   "language": "python",
   "name": "python3"
  },
  "language_info": {
   "codemirror_mode": {
    "name": "ipython",
    "version": 2
   },
   "file_extension": ".py",
   "mimetype": "text/x-python",
   "name": "python",
   "nbconvert_exporter": "python",
   "pygments_lexer": "ipython2",
   "version": "2.7.6"
  }
 },
 "nbformat": 4,
 "nbformat_minor": 5
}
