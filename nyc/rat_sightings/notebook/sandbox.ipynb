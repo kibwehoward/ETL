{
 "cells": [
  {
   "cell_type": "code",
   "execution_count": 5,
   "id": "initial_id",
   "metadata": {
    "collapsed": true,
    "ExecuteTime": {
     "end_time": "2023-11-27T20:48:26.954913058Z",
     "start_time": "2023-11-27T20:48:26.910481448Z"
    }
   },
   "outputs": [],
   "source": [
    "# Import necessary libraries\n",
    "import pandas as pd\n",
    "from sqlalchemy import create_engine\n",
    "from db_config import db_credentials  # Importing database credentials from a separate config file\n",
    "\n",
    "def create_db_engine(credentials):\n",
    "    \"\"\"Create a database engine using provided credentials.\"\"\"\n",
    "    engine_url = f'postgresql://{credentials[\"username\"]}:{credentials[\"password\"]}@{credentials[\"host\"]}:{credentials[\"port\"]}/{credentials[\"database\"]}'\n",
    "    engine = create_engine(engine_url)\n",
    "    return engine\n"
   ]
  },
  {
   "cell_type": "code",
   "execution_count": 6,
   "outputs": [],
   "source": [
    "# Load Data into DataFrame\n",
    "try:\n",
    "    engine = create_db_engine(db_credentials)\n",
    "    query = \"SELECT * FROM rat_sightings\"  # Modify the query as needed\n",
    "    df = pd.read_sql(query, engine)\n",
    "except Exception as e:\n",
    "    print(f\"An error occurred while loading data: {e}\")\n",
    "    "
   ],
   "metadata": {
    "collapsed": false,
    "ExecuteTime": {
     "end_time": "2023-11-27T20:48:31.009428348Z",
     "start_time": "2023-11-27T20:48:26.954740807Z"
    }
   },
   "id": "abc52eb5f51805d3"
  },
  {
   "cell_type": "code",
   "execution_count": 7,
   "outputs": [
    {
     "name": "stdout",
     "output_type": "stream",
     "text": [
      "Number of Rows: 232362\n",
      "Number of Columns: 43\n",
      "Earliest Date: 2010-01-01 08:29:58-05:00\n",
      "Latest Date: 2023-11-25 00:23:35-05:00\n"
     ]
    }
   ],
   "source": [
    "# Analyze Data\n",
    "try:\n",
    "    # Count rows and columns\n",
    "    row_count = len(df)\n",
    "    column_count = len(df.columns)\n",
    "    print(f\"Number of Rows: {row_count}\")\n",
    "    print(f\"Number of Columns: {column_count}\")\n",
    "\n",
    "    # Find earliest and latest dates\n",
    "    earliest_date = df['created_date'].min()\n",
    "    latest_date = df['created_date'].max()\n",
    "    print(f\"Earliest Date: {earliest_date}\")\n",
    "    print(f\"Latest Date: {latest_date}\")\n",
    "except NameError:\n",
    "    print(\"DataFrame not loaded. Ensure the data loading cell ran successfully.\")\n"
   ],
   "metadata": {
    "collapsed": false,
    "ExecuteTime": {
     "end_time": "2023-11-27T20:48:31.280213910Z",
     "start_time": "2023-11-27T20:48:31.135227315Z"
    }
   },
   "id": "ca426336faaa1316"
  },
  {
   "cell_type": "code",
   "execution_count": 8,
   "outputs": [
    {
     "name": "stdout",
     "output_type": "stream",
     "text": [
      "Column Names: ['ogc_fid', 'location_state', 'facility_type', 'intersection_street_2', 'city', 'location_zip', 'park_borough', 'latitude', 'road_ramp', 'created_date', 'y_coordinate_state_plane_', 'agency', 'park_facility_name', 'location_address', 'agency_name', 'descriptor', 'location_city', 'cross_street_2', 'bridge_highway_direction', 'longitude', 'bridge_highway_segment', 'street_name', 'incident_address', 'address_type', 'incident_zip', 'unique_key', 'complaint_type', 'status', 'bridge_highway_name', 'location_type', 'x_coordinate_state_plane_', 'due_date', 'taxi_company_borough', 'taxi_pick_up_location', 'community_board', 'resolution_action_updated_date', 'intersection_street_1', 'closed_date', 'vehicle_type', 'cross_street_1', 'borough', 'landmark', 'geom']\n"
     ]
    }
   ],
   "source": [
    "# Display Column Names\n",
    "try:\n",
    "    column_names = df.columns.tolist()\n",
    "    print(f\"Column Names: {column_names}\")\n",
    "except NameError:\n",
    "    print(\"DataFrame not loaded. Ensure the data loading cell ran successfully.\")\n",
    "    "
   ],
   "metadata": {
    "collapsed": false,
    "ExecuteTime": {
     "end_time": "2023-11-27T20:48:31.326827905Z",
     "start_time": "2023-11-27T20:48:31.280466780Z"
    }
   },
   "id": "628feee6f9548c42"
  }
 ],
 "metadata": {
  "kernelspec": {
   "display_name": "Python 3",
   "language": "python",
   "name": "python3"
  },
  "language_info": {
   "codemirror_mode": {
    "name": "ipython",
    "version": 2
   },
   "file_extension": ".py",
   "mimetype": "text/x-python",
   "name": "python",
   "nbconvert_exporter": "python",
   "pygments_lexer": "ipython2",
   "version": "2.7.6"
  }
 },
 "nbformat": 4,
 "nbformat_minor": 5
}
