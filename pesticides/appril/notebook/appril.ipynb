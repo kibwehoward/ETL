{
 "cells": [
  {
   "cell_type": "code",
   "execution_count": 4,
   "id": "initial_id",
   "metadata": {
    "collapsed": true,
    "ExecuteTime": {
     "end_time": "2023-11-10T23:54:45.376560920Z",
     "start_time": "2023-11-10T23:54:45.267428997Z"
    }
   },
   "outputs": [
    {
     "name": "stdout",
     "output_type": "stream",
     "text": [
      "Successfully Connected\n"
     ]
    }
   ],
   "source": [
    "import psycopg2\n",
    "from db_config import db_credentials\n",
    "\n",
    "u, p, h, port, db = db_credentials.values()\n",
    "\n",
    "def connect_to_postgresql():\n",
    "    try:\n",
    "        connection = psycopg2.connect(\n",
    "            user=u,\n",
    "            password=p,\n",
    "            host=h,\n",
    "            port=port,\n",
    "            database=db\n",
    "        )\n",
    "        \n",
    "        # Check if the connection is successful\n",
    "        if connection:\n",
    "            print(\"Successfully Connected\")\n",
    "        return connection\n",
    "\n",
    "    except Exception as error:\n",
    "        print(f\"Error while connecting to PostgreSQL: {error}\")\n",
    "        return None\n",
    "\n",
    "# Test the function\n",
    "connection = connect_to_postgresql()\n",
    "\n",
    "# Close the connection after use\n",
    "if connection:\n",
    "    connection.close()"
   ]
  },
  {
   "cell_type": "code",
   "execution_count": 8,
   "outputs": [
    {
     "name": "stdout",
     "output_type": "stream",
     "text": [
      "There are 362948 rows in the 'appril' table.\n"
     ]
    }
   ],
   "source": [
    "import psycopg2\n",
    "from db_config import db_credentials\n",
    "\n",
    "u, p, h, port, db = db_credentials.values()\n",
    "\n",
    "def get_row_count(table_name):\n",
    "    try:\n",
    "        connection = psycopg2.connect(\n",
    "            user=u,\n",
    "            password=p,\n",
    "            host=h,\n",
    "            port=port,\n",
    "            database=db\n",
    "        )\n",
    "\n",
    "        cursor = connection.cursor()\n",
    "        cursor.execute(f\"SELECT COUNT(*) FROM \\\"{table_name}\\\"\")  # Table name enclosed in double quotes\n",
    "        count = cursor.fetchone()[0]\n",
    "\n",
    "        print(f\"There are {count} rows in the '{table_name}' table.\")\n",
    "\n",
    "        # Close cursor and connection\n",
    "        cursor.close()\n",
    "        connection.close()\n",
    "\n",
    "        return count\n",
    "\n",
    "    except Exception as error:\n",
    "        print(f\"Error: {error}\")\n",
    "        return None\n",
    "\n",
    "# Replace 'your_table_name' with the name of your table\n",
    "row_count = get_row_count('appril')\n"
   ],
   "metadata": {
    "collapsed": false,
    "ExecuteTime": {
     "end_time": "2023-11-10T23:55:16.146494849Z",
     "start_time": "2023-11-10T23:55:15.787626247Z"
    }
   },
   "id": "4a9a37bd635af9e3"
  },
  {
   "cell_type": "code",
   "execution_count": 9,
   "outputs": [
    {
     "name": "stdout",
     "output_type": "stream",
     "text": [
      "The table 'appril' has 31 columns.\n",
      "Columns: STATUS_DT, MAX_LABEL_DT, FIRST_REG_DT, COMPANY_NUM, STATUS, STATUS_DESC, STATUS_GROUP, USE_TYPE, SIGNAL_WORD, RUP_FLAG, RUP_REASON, PESTICIDE_TYPE, PEST_CAT, PHYS_FORM, AIS, PESTS, SITES, TEAM, PM_EMAIL, RI_AND_DP_NUM_SORT, USE_PATTERN, TRANSFER_HISTORY, ABNS, ME_TOO_FLAG, ME_TOO_REFS, LABEL_DATES, REG_NUM, LABEL_NAMES, REG_TYPE, PRODUCT_NAME, COMPANY_NAME\n"
     ]
    }
   ],
   "source": [
    "import psycopg2\n",
    "from db_config import db_credentials\n",
    "\n",
    "u, p, h, port, db = db_credentials.values()\n",
    "\n",
    "def list_and_count_columns(table_name):\n",
    "    try:\n",
    "        connection = psycopg2.connect(\n",
    "            user=u,\n",
    "            password=p,\n",
    "            host=h,\n",
    "            port=port,\n",
    "            database=db\n",
    "        )\n",
    "\n",
    "        cursor = connection.cursor()\n",
    "\n",
    "        # Query to get column names\n",
    "        cursor.execute(f\"SELECT column_name FROM information_schema.columns WHERE table_name = '{table_name}'\")\n",
    "        columns = [row[0] for row in cursor.fetchall()]\n",
    "\n",
    "        # Counting the columns\n",
    "        num_columns = len(columns)\n",
    "\n",
    "        print(f\"The table '{table_name}' has {num_columns} columns.\")\n",
    "        print(f\"Columns: {', '.join(columns)}\")\n",
    "\n",
    "        # Close cursor and connection\n",
    "        cursor.close()\n",
    "        connection.close()\n",
    "\n",
    "        return num_columns, columns\n",
    "\n",
    "    except Exception as error:\n",
    "        print(f\"Error: {error}\")\n",
    "        return None, []\n",
    "\n",
    "# Replace 'your_table_name' with the name of your table\n",
    "num_columns, columns_list = list_and_count_columns('appril')\n"
   ],
   "metadata": {
    "collapsed": false,
    "ExecuteTime": {
     "end_time": "2023-11-10T23:55:29.123581261Z",
     "start_time": "2023-11-10T23:55:28.931757195Z"
    }
   },
   "id": "895d2a6b038e8182"
  },
  {
   "cell_type": "code",
   "execution_count": 10,
   "outputs": [
    {
     "data": {
      "text/plain": "                REG_NUM REG_TYPE  \\\n0              83529-69     Sec3   \n1        83100-53-83979       DP   \n2         10324-63-8503       DP   \n3        89459-88-88091       DP   \n4              89850-14     Sec3   \n...                 ...      ...   \n362943         83100-61     Sec3   \n362944   1839-220-10350       DP   \n362945  1021-1648-97539       DP   \n362946   89110-17-97375       DP   \n362947         33427-17     Sec3   \n\n                                             PRODUCT_NAME  COMPANY_NUM  \\\n0       Sharda Metolachlor43.72%+Metribuzin6.14%+Imaze...        83529   \n1                                                  Return        83979   \n2                                  Sanitizing Rinse Sr-22         8503   \n3          Cpc Beefmaker Hi-Mag Mineral .014% Altosid Igr        88091   \n4                                     Semios Oblr/Plr Eco        89850   \n...                                                   ...          ...   \n362943  Rotam Acetochlor 30% + Mesotrione 3.36% + Dich...        83100   \n362944                                               None        10350   \n362945                        Total Release Insect Fogger        97539   \n362946                                      Biocrude Th50        97375   \n362947                        Aceto Acetamiprid Technical        33427   \n\n                                       COMPANY_NAME FIRST_REG_DT  \\\n0                                    Sharda Usa Llc   2017-08-11   \n1       Albaugh, Llc - Rotam North America Division   2017-04-10   \n2                     Products Chemical Company Llc   2017-04-13   \n3                          Gold River Feed Products   2017-04-13   \n4                       Semiosbio Technologies Inc.   2017-10-24   \n...                                             ...          ...   \n362943                                 Albaugh, Llc   2021-05-05   \n362944                                           3m   2020-11-24   \n362945                   Protochem Laboratories Llc   2020-12-11   \n362946                    Crudechem Technology, Llc   2020-12-15   \n362947                             Aceto Us, L.L.C.   2022-02-14   \n\n                          STATUS                        STATUS_DESC  \\\n0       Conditionally Registered  Active - Conditionally Registered   \n1       Conditionally Registered  Active - Conditionally Registered   \n2                     Registered                Active - Registered   \n3                     Registered                Active - Registered   \n4                     Registered                Active - Registered   \n...                          ...                                ...   \n362943  Conditionally Registered  Active - Conditionally Registered   \n362944                  Canceled               Inactive - Cancelled   \n362945                Registered                Active - Registered   \n362946  Conditionally Registered  Active - Conditionally Registered   \n362947                Registered                Active - Registered   \n\n       STATUS_GROUP           STATUS_DT  ...                  PM_EMAIL  \\\n0            Active 2017-08-11 00:00:00  ...      ondish.mindy@epa.gov   \n1            Active 2017-04-10 00:00:00  ...                      None   \n2            Active 2017-04-13 00:00:00  ...                      None   \n3            Active 2017-04-13 00:00:00  ...                      None   \n4            Active 2017-10-24 00:00:00  ...  Bryceland.Andrew@epa.gov   \n...             ...                 ...  ...                       ...   \n362943       Active 2021-05-05 00:00:00  ...      Schmid.Emily@epa.gov   \n362944     Inactive 2022-11-08 12:17:03  ...                      None   \n362945       Active 2020-12-11 00:00:00  ...                      None   \n362946       Active 2020-12-15 00:00:00  ...                      None   \n362947       Active 2022-02-14 00:00:00  ...       Eagle.Venus@epa.gov   \n\n       RI_AND_DP_NUM_SORT                                        USE_PATTERN  \\\n0             08352900069                              Terrestrial food crop   \n1       08310000053083979                                               None   \n2       01032400063008503                                               None   \n3       08945900088088091                                               None   \n4             08985000014                                               None   \n...                   ...                                                ...   \n362943        08310000061       Terrestrial feed crop, Terrestrial food crop   \n362944  00183900220010350                                               None   \n362945  00102101648097539                                               None   \n362946  08911000017097375                                               None   \n362947        03342700017  Greenhouse food crop, Greenhouse nonfood crop,...   \n\n       TRANSFER_HISTORY                                               ABNS  \\\n0                  None  Sharda Metolachlor43.72%+Metribuzin6.14%+Imaze...   \n1                  None                              Return (Primary Name)   \n2                  None              Sanitizing Rinse Sr-22 (Primary Name)   \n3                  None  Cpc Beefmaker Hi-Mag Mineral .014% Altosid Igr...   \n4                  None                 Semios Oblr/Plr Eco (Primary Name)   \n...                 ...                                                ...   \n362943             None  Rotam Acetochlor 30% + Mesotrione 3.36% + Dich...   \n362944             None                                               None   \n362945             None         Total Release Insect Fogger (Primary Name)   \n362946             None                       Biocrude Th50 (Primary Name)   \n362947             None         Aceto Acetamiprid Technical (Primary Name)   \n\n       ME_TOO_FLAG ME_TOO_REFS MAX_LABEL_DT             LABEL_DATES  \\\n0                Y  34704-1054   2023-01-26  01/26/2023, 08/11/2017   \n1             None        None          NaT                    None   \n2             None        None          NaT                    None   \n3             None        None          NaT                    None   \n4             None        None   2019-07-11  07/11/2019, 10/24/2017   \n...            ...         ...          ...                     ...   \n362943           Y    83100-58   2021-05-05              05/05/2021   \n362944        None        None          NaT                    None   \n362945        None        None          NaT                    None   \n362946        None        None          NaT                    None   \n362947           Y     8033-20   2022-02-14              02/14/2022   \n\n                                              LABEL_NAMES  \n0       083529-00069-20230126.pdf, 083529-00069-201708...  \n1                                                    None  \n2                                                    None  \n3                                                    None  \n4       089850-00014-20190711.pdf, 089850-00014-201710...  \n...                                                   ...  \n362943                          083100-00061-20210505.pdf  \n362944                                               None  \n362945                                               None  \n362946                                               None  \n362947                          033427-00017-20220214.pdf  \n\n[362948 rows x 31 columns]",
      "text/html": "<div>\n<style scoped>\n    .dataframe tbody tr th:only-of-type {\n        vertical-align: middle;\n    }\n\n    .dataframe tbody tr th {\n        vertical-align: top;\n    }\n\n    .dataframe thead th {\n        text-align: right;\n    }\n</style>\n<table border=\"1\" class=\"dataframe\">\n  <thead>\n    <tr style=\"text-align: right;\">\n      <th></th>\n      <th>REG_NUM</th>\n      <th>REG_TYPE</th>\n      <th>PRODUCT_NAME</th>\n      <th>COMPANY_NUM</th>\n      <th>COMPANY_NAME</th>\n      <th>FIRST_REG_DT</th>\n      <th>STATUS</th>\n      <th>STATUS_DESC</th>\n      <th>STATUS_GROUP</th>\n      <th>STATUS_DT</th>\n      <th>...</th>\n      <th>PM_EMAIL</th>\n      <th>RI_AND_DP_NUM_SORT</th>\n      <th>USE_PATTERN</th>\n      <th>TRANSFER_HISTORY</th>\n      <th>ABNS</th>\n      <th>ME_TOO_FLAG</th>\n      <th>ME_TOO_REFS</th>\n      <th>MAX_LABEL_DT</th>\n      <th>LABEL_DATES</th>\n      <th>LABEL_NAMES</th>\n    </tr>\n  </thead>\n  <tbody>\n    <tr>\n      <th>0</th>\n      <td>83529-69</td>\n      <td>Sec3</td>\n      <td>Sharda Metolachlor43.72%+Metribuzin6.14%+Imaze...</td>\n      <td>83529</td>\n      <td>Sharda Usa Llc</td>\n      <td>2017-08-11</td>\n      <td>Conditionally Registered</td>\n      <td>Active - Conditionally Registered</td>\n      <td>Active</td>\n      <td>2017-08-11 00:00:00</td>\n      <td>...</td>\n      <td>ondish.mindy@epa.gov</td>\n      <td>08352900069</td>\n      <td>Terrestrial food crop</td>\n      <td>None</td>\n      <td>Sharda Metolachlor43.72%+Metribuzin6.14%+Imaze...</td>\n      <td>Y</td>\n      <td>34704-1054</td>\n      <td>2023-01-26</td>\n      <td>01/26/2023, 08/11/2017</td>\n      <td>083529-00069-20230126.pdf, 083529-00069-201708...</td>\n    </tr>\n    <tr>\n      <th>1</th>\n      <td>83100-53-83979</td>\n      <td>DP</td>\n      <td>Return</td>\n      <td>83979</td>\n      <td>Albaugh, Llc - Rotam North America Division</td>\n      <td>2017-04-10</td>\n      <td>Conditionally Registered</td>\n      <td>Active - Conditionally Registered</td>\n      <td>Active</td>\n      <td>2017-04-10 00:00:00</td>\n      <td>...</td>\n      <td>None</td>\n      <td>08310000053083979</td>\n      <td>None</td>\n      <td>None</td>\n      <td>Return (Primary Name)</td>\n      <td>None</td>\n      <td>None</td>\n      <td>NaT</td>\n      <td>None</td>\n      <td>None</td>\n    </tr>\n    <tr>\n      <th>2</th>\n      <td>10324-63-8503</td>\n      <td>DP</td>\n      <td>Sanitizing Rinse Sr-22</td>\n      <td>8503</td>\n      <td>Products Chemical Company Llc</td>\n      <td>2017-04-13</td>\n      <td>Registered</td>\n      <td>Active - Registered</td>\n      <td>Active</td>\n      <td>2017-04-13 00:00:00</td>\n      <td>...</td>\n      <td>None</td>\n      <td>01032400063008503</td>\n      <td>None</td>\n      <td>None</td>\n      <td>Sanitizing Rinse Sr-22 (Primary Name)</td>\n      <td>None</td>\n      <td>None</td>\n      <td>NaT</td>\n      <td>None</td>\n      <td>None</td>\n    </tr>\n    <tr>\n      <th>3</th>\n      <td>89459-88-88091</td>\n      <td>DP</td>\n      <td>Cpc Beefmaker Hi-Mag Mineral .014% Altosid Igr</td>\n      <td>88091</td>\n      <td>Gold River Feed Products</td>\n      <td>2017-04-13</td>\n      <td>Registered</td>\n      <td>Active - Registered</td>\n      <td>Active</td>\n      <td>2017-04-13 00:00:00</td>\n      <td>...</td>\n      <td>None</td>\n      <td>08945900088088091</td>\n      <td>None</td>\n      <td>None</td>\n      <td>Cpc Beefmaker Hi-Mag Mineral .014% Altosid Igr...</td>\n      <td>None</td>\n      <td>None</td>\n      <td>NaT</td>\n      <td>None</td>\n      <td>None</td>\n    </tr>\n    <tr>\n      <th>4</th>\n      <td>89850-14</td>\n      <td>Sec3</td>\n      <td>Semios Oblr/Plr Eco</td>\n      <td>89850</td>\n      <td>Semiosbio Technologies Inc.</td>\n      <td>2017-10-24</td>\n      <td>Registered</td>\n      <td>Active - Registered</td>\n      <td>Active</td>\n      <td>2017-10-24 00:00:00</td>\n      <td>...</td>\n      <td>Bryceland.Andrew@epa.gov</td>\n      <td>08985000014</td>\n      <td>None</td>\n      <td>None</td>\n      <td>Semios Oblr/Plr Eco (Primary Name)</td>\n      <td>None</td>\n      <td>None</td>\n      <td>2019-07-11</td>\n      <td>07/11/2019, 10/24/2017</td>\n      <td>089850-00014-20190711.pdf, 089850-00014-201710...</td>\n    </tr>\n    <tr>\n      <th>...</th>\n      <td>...</td>\n      <td>...</td>\n      <td>...</td>\n      <td>...</td>\n      <td>...</td>\n      <td>...</td>\n      <td>...</td>\n      <td>...</td>\n      <td>...</td>\n      <td>...</td>\n      <td>...</td>\n      <td>...</td>\n      <td>...</td>\n      <td>...</td>\n      <td>...</td>\n      <td>...</td>\n      <td>...</td>\n      <td>...</td>\n      <td>...</td>\n      <td>...</td>\n      <td>...</td>\n    </tr>\n    <tr>\n      <th>362943</th>\n      <td>83100-61</td>\n      <td>Sec3</td>\n      <td>Rotam Acetochlor 30% + Mesotrione 3.36% + Dich...</td>\n      <td>83100</td>\n      <td>Albaugh, Llc</td>\n      <td>2021-05-05</td>\n      <td>Conditionally Registered</td>\n      <td>Active - Conditionally Registered</td>\n      <td>Active</td>\n      <td>2021-05-05 00:00:00</td>\n      <td>...</td>\n      <td>Schmid.Emily@epa.gov</td>\n      <td>08310000061</td>\n      <td>Terrestrial feed crop, Terrestrial food crop</td>\n      <td>None</td>\n      <td>Rotam Acetochlor 30% + Mesotrione 3.36% + Dich...</td>\n      <td>Y</td>\n      <td>83100-58</td>\n      <td>2021-05-05</td>\n      <td>05/05/2021</td>\n      <td>083100-00061-20210505.pdf</td>\n    </tr>\n    <tr>\n      <th>362944</th>\n      <td>1839-220-10350</td>\n      <td>DP</td>\n      <td>None</td>\n      <td>10350</td>\n      <td>3m</td>\n      <td>2020-11-24</td>\n      <td>Canceled</td>\n      <td>Inactive - Cancelled</td>\n      <td>Inactive</td>\n      <td>2022-11-08 12:17:03</td>\n      <td>...</td>\n      <td>None</td>\n      <td>00183900220010350</td>\n      <td>None</td>\n      <td>None</td>\n      <td>None</td>\n      <td>None</td>\n      <td>None</td>\n      <td>NaT</td>\n      <td>None</td>\n      <td>None</td>\n    </tr>\n    <tr>\n      <th>362945</th>\n      <td>1021-1648-97539</td>\n      <td>DP</td>\n      <td>Total Release Insect Fogger</td>\n      <td>97539</td>\n      <td>Protochem Laboratories Llc</td>\n      <td>2020-12-11</td>\n      <td>Registered</td>\n      <td>Active - Registered</td>\n      <td>Active</td>\n      <td>2020-12-11 00:00:00</td>\n      <td>...</td>\n      <td>None</td>\n      <td>00102101648097539</td>\n      <td>None</td>\n      <td>None</td>\n      <td>Total Release Insect Fogger (Primary Name)</td>\n      <td>None</td>\n      <td>None</td>\n      <td>NaT</td>\n      <td>None</td>\n      <td>None</td>\n    </tr>\n    <tr>\n      <th>362946</th>\n      <td>89110-17-97375</td>\n      <td>DP</td>\n      <td>Biocrude Th50</td>\n      <td>97375</td>\n      <td>Crudechem Technology, Llc</td>\n      <td>2020-12-15</td>\n      <td>Conditionally Registered</td>\n      <td>Active - Conditionally Registered</td>\n      <td>Active</td>\n      <td>2020-12-15 00:00:00</td>\n      <td>...</td>\n      <td>None</td>\n      <td>08911000017097375</td>\n      <td>None</td>\n      <td>None</td>\n      <td>Biocrude Th50 (Primary Name)</td>\n      <td>None</td>\n      <td>None</td>\n      <td>NaT</td>\n      <td>None</td>\n      <td>None</td>\n    </tr>\n    <tr>\n      <th>362947</th>\n      <td>33427-17</td>\n      <td>Sec3</td>\n      <td>Aceto Acetamiprid Technical</td>\n      <td>33427</td>\n      <td>Aceto Us, L.L.C.</td>\n      <td>2022-02-14</td>\n      <td>Registered</td>\n      <td>Active - Registered</td>\n      <td>Active</td>\n      <td>2022-02-14 00:00:00</td>\n      <td>...</td>\n      <td>Eagle.Venus@epa.gov</td>\n      <td>03342700017</td>\n      <td>Greenhouse food crop, Greenhouse nonfood crop,...</td>\n      <td>None</td>\n      <td>Aceto Acetamiprid Technical (Primary Name)</td>\n      <td>Y</td>\n      <td>8033-20</td>\n      <td>2022-02-14</td>\n      <td>02/14/2022</td>\n      <td>033427-00017-20220214.pdf</td>\n    </tr>\n  </tbody>\n</table>\n<p>362948 rows × 31 columns</p>\n</div>"
     },
     "execution_count": 10,
     "metadata": {},
     "output_type": "execute_result"
    }
   ],
   "source": [
    "import pandas as pd\n",
    "from sqlalchemy import create_engine\n",
    "from db_config import db_credentials\n",
    "\n",
    "# Database connection setup\n",
    "u, p, h, port, db = db_credentials.values()\n",
    "engine_url = f\"postgresql+psycopg2://{u}:{p}@{h}:{port}/{db}\"\n",
    "engine = create_engine(engine_url)\n",
    "\n",
    "datasets = [\n",
    "    # 'service_requests',\n",
    "    'appril',\n",
    "]\n",
    "\n",
    "for dataset in datasets:\n",
    "    sql_query = f'SELECT * FROM \"{dataset}\"'\n",
    "    df = pd.read_sql(sql_query, engine)\n",
    "\n",
    "df"
   ],
   "metadata": {
    "collapsed": false,
    "ExecuteTime": {
     "end_time": "2023-11-10T23:57:21.767029031Z",
     "start_time": "2023-11-10T23:55:38.247587159Z"
    }
   },
   "id": "6edb8d80fea41305"
  },
  {
   "cell_type": "code",
   "execution_count": 12,
   "outputs": [
    {
     "name": "stdout",
     "output_type": "stream",
     "text": [
      "Columns in 'appril' table:\n",
      "STATUS_DT\n",
      "MAX_LABEL_DT\n",
      "FIRST_REG_DT\n",
      "COMPANY_NUM\n",
      "STATUS\n",
      "STATUS_DESC\n",
      "STATUS_GROUP\n",
      "USE_TYPE\n",
      "SIGNAL_WORD\n",
      "RUP_FLAG\n",
      "RUP_REASON\n",
      "PESTICIDE_TYPE\n",
      "PEST_CAT\n",
      "PHYS_FORM\n",
      "AIS\n",
      "PESTS\n",
      "SITES\n",
      "TEAM\n",
      "PM_EMAIL\n",
      "RI_AND_DP_NUM_SORT\n",
      "USE_PATTERN\n",
      "TRANSFER_HISTORY\n",
      "ABNS\n",
      "ME_TOO_FLAG\n",
      "ME_TOO_REFS\n",
      "LABEL_DATES\n",
      "REG_NUM\n",
      "LABEL_NAMES\n",
      "REG_TYPE\n",
      "PRODUCT_NAME\n",
      "COMPANY_NAME\n"
     ]
    }
   ],
   "source": [
    "import psycopg2\n",
    "from db_config import db_credentials\n",
    "\n",
    "def list_columns():\n",
    "    # Database connection parameters\n",
    "    u, p, h, port, db = db_credentials.values()\n",
    "\n",
    "    # Establishing the connection\n",
    "    conn = psycopg2.connect(\n",
    "        dbname=db, user=u, password=p, host=h, port=port\n",
    "    )\n",
    "    cur = conn.cursor()\n",
    "\n",
    "    # Query to list all columns in the table\n",
    "    cur.execute(\"SELECT column_name FROM information_schema.columns WHERE table_name = 'appril'\")\n",
    "\n",
    "    # Fetching all column names\n",
    "    columns = cur.fetchall()\n",
    "\n",
    "    # Closing the connection\n",
    "    cur.close()\n",
    "    conn.close()\n",
    "\n",
    "    return columns\n",
    "\n",
    "def main():\n",
    "    columns = list_columns()\n",
    "    print(\"Columns in 'appril' table:\")\n",
    "    for column in columns:\n",
    "        print(column[0])\n",
    "\n",
    "    # Your existing code for getting pests list...\n",
    "\n",
    "if __name__ == \"__main__\":\n",
    "    main()\n"
   ],
   "metadata": {
    "collapsed": false,
    "ExecuteTime": {
     "end_time": "2023-11-11T00:01:14.149927560Z",
     "start_time": "2023-11-11T00:01:14.004941671Z"
    }
   },
   "id": "acd2ac0ce9d43365"
  },
  {
   "cell_type": "code",
   "execution_count": 17,
   "outputs": [
    {
     "name": "stdout",
     "output_type": "stream",
     "text": [
      "Pests list has been written to pests_list.txt\n"
     ]
    }
   ],
   "source": [
    "import psycopg2\n",
    "from db_config import db_credentials\n",
    "\n",
    "def write_pests_to_file(filename):\n",
    "    # Database connection parameters\n",
    "    u, p, h, port, db = db_credentials.values()\n",
    "\n",
    "    # Establishing the connection\n",
    "    conn = psycopg2.connect(\n",
    "        dbname=db, user=u, password=p, host=h, port=port\n",
    "    )\n",
    "    cur = conn.cursor()\n",
    "\n",
    "    # Executing a query\n",
    "    cur.execute('SELECT DISTINCT \"PESTS\" FROM appril')\n",
    "\n",
    "    # Fetching all rows from the table\n",
    "    pests = cur.fetchall()\n",
    "\n",
    "    # Opening a file to write\n",
    "    with open(filename, 'w') as file:\n",
    "        for pest in pests:\n",
    "            if pest[0] is not None:\n",
    "                file.write(pest[0] + '\\n')\n",
    "\n",
    "    # Closing the database connection\n",
    "    cur.close()\n",
    "    conn.close()\n",
    "\n",
    "def main():\n",
    "    output_file = 'pests_list.txt'\n",
    "    write_pests_to_file(output_file)\n",
    "    print(f\"Pests list has been written to {output_file}\")\n",
    "\n",
    "if __name__ == \"__main__\":\n",
    "    main()\n"
   ],
   "metadata": {
    "collapsed": false,
    "ExecuteTime": {
     "end_time": "2023-11-11T00:21:29.066335333Z",
     "start_time": "2023-11-11T00:21:20.792957759Z"
    }
   },
   "id": "17c55c54b7198e54"
  },
  {
   "cell_type": "code",
   "execution_count": 19,
   "outputs": [
    {
     "name": "stdout",
     "output_type": "stream",
     "text": [
      "Unique pests list has been written to unique_pests_list.txt\n"
     ]
    }
   ],
   "source": [
    "import psycopg2\n",
    "from db_config import db_credentials\n",
    "\n",
    "def write_pests_to_file(filename):\n",
    "    # Database connection parameters\n",
    "    u, p, h, port, db = db_credentials.values()\n",
    "\n",
    "    # Establishing the connection\n",
    "    conn = psycopg2.connect(\n",
    "        dbname=db, user=u, password=p, host=h, port=port\n",
    "    )\n",
    "    cur = conn.cursor()\n",
    "\n",
    "    # Executing a query\n",
    "    cur.execute('SELECT DISTINCT \"PESTS\" FROM appril')\n",
    "\n",
    "    # Fetching all rows from the table and adding to a set for uniqueness\n",
    "    pests = set(pest[0] for pest in cur.fetchall() if pest[0] is not None)\n",
    "\n",
    "    # Closing the database connection\n",
    "    cur.close()\n",
    "    conn.close()\n",
    "\n",
    "    # Writing the unique pests to the file\n",
    "    with open(filename, 'w') as file:\n",
    "        for pest in sorted(pests):\n",
    "            file.write(pest + '\\n')\n",
    "\n",
    "def main():\n",
    "    output_file = 'unique_pests_list.txt'\n",
    "    write_pests_to_file(output_file)\n",
    "    print(f\"Unique pests list has been written to {output_file}\")\n",
    "\n",
    "if __name__ == \"__main__\":\n",
    "    main()\n"
   ],
   "metadata": {
    "collapsed": false,
    "ExecuteTime": {
     "end_time": "2023-11-11T00:25:05.528981394Z",
     "start_time": "2023-11-11T00:24:57.407057911Z"
    }
   },
   "id": "518390ad8913f59f"
  },
  {
   "cell_type": "code",
   "execution_count": 20,
   "outputs": [
    {
     "name": "stdout",
     "output_type": "stream",
     "text": [
      "Sorted unique pests list has been written to sorted_unique_pests_list.txt\n"
     ]
    }
   ],
   "source": [
    "import psycopg2\n",
    "from db_config import db_credentials\n",
    "\n",
    "def write_pests_to_file(filename):\n",
    "    # Database connection parameters\n",
    "    u, p, h, port, db = db_credentials.values()\n",
    "\n",
    "    # Establishing the connection\n",
    "    conn = psycopg2.connect(\n",
    "        dbname=db, user=u, password=p, host=h, port=port\n",
    "    )\n",
    "    cur = conn.cursor()\n",
    "\n",
    "    # Executing a query\n",
    "    cur.execute('SELECT DISTINCT \"PESTS\" FROM appril')\n",
    "\n",
    "    # Fetching all rows from the table and adding to a set for uniqueness\n",
    "    pests = set(pest[0] for pest in cur.fetchall() if pest[0] is not None)\n",
    "\n",
    "    # Closing the database connection\n",
    "    cur.close()\n",
    "    conn.close()\n",
    "\n",
    "    # Sorting the pests and writing them to the file in list format\n",
    "    with open(filename, 'w') as file:\n",
    "        sorted_pests = sorted(pests)\n",
    "        file.write(str(sorted_pests))\n",
    "\n",
    "def main():\n",
    "    output_file = 'sorted_unique_pests_list.txt'\n",
    "    write_pests_to_file(output_file)\n",
    "    print(f\"Sorted unique pests list has been written to {output_file}\")\n",
    "\n",
    "if __name__ == \"__main__\":\n",
    "    main()\n"
   ],
   "metadata": {
    "collapsed": false,
    "ExecuteTime": {
     "end_time": "2023-11-11T00:49:53.023162530Z",
     "start_time": "2023-11-11T00:49:44.304194262Z"
    }
   },
   "id": "7f04021e5f5d3046"
  },
  {
   "cell_type": "code",
   "execution_count": 1,
   "outputs": [
    {
     "name": "stdout",
     "output_type": "stream",
     "text": [
      "Search by: 1 - 'REG_NUM', 2 - 'PRODUCT_NAME', 3 - 'PESTS', 4 - 'SITES'\n"
     ]
    },
    {
     "name": "stderr",
     "output_type": "stream",
     "text": [
      "IOPub data rate exceeded.\n",
      "The Jupyter server will temporarily stop sending output\n",
      "to the client in order to avoid crashing it.\n",
      "To change this limit, set the config variable\n",
      "`--ServerApp.iopub_data_rate_limit`.\n",
      "\n",
      "Current values:\n",
      "ServerApp.iopub_data_rate_limit=1000000.0 (bytes/sec)\n",
      "ServerApp.rate_limit_window=3.0 (secs)\n",
      "\n"
     ]
    }
   ],
   "source": [
    "import psycopg2\n",
    "from db_config import db_credentials\n",
    "\n",
    "def get_registered_pesticides(search_field, search_term):\n",
    "    # Database connection parameters\n",
    "    u, p, h, port, db = db_credentials.values()\n",
    "\n",
    "    # Establishing the connection\n",
    "    conn = psycopg2.connect(\n",
    "        dbname=db, user=u, password=p, host=h, port=port\n",
    "    )\n",
    "    cur = conn.cursor()\n",
    "\n",
    "    # Query to get registered pesticides based on search field and term\n",
    "    # Using double quotes for column names to handle case sensitivity\n",
    "    query = f\"\"\"\n",
    "    SELECT \"PRODUCT_NAME\", \"COMPANY_NAME\", \"REG_NUM\", \"PESTS\", \"SITES\"\n",
    "    FROM appril\n",
    "    WHERE {search_field} ILIKE %s AND \"STATUS\" = 'Registered'\n",
    "    \"\"\"\n",
    "    cur.execute(query, ('%' + search_term + '%',))\n",
    "\n",
    "    # Fetching all rows that match the query\n",
    "    registered_pesticides = cur.fetchall()\n",
    "\n",
    "    # Closing the connection\n",
    "    cur.close()\n",
    "    conn.close()\n",
    "\n",
    "    return registered_pesticides\n",
    "\n",
    "def main():\n",
    "    print(\"Search by: 1 - 'REG_NUM', 2 - 'PRODUCT_NAME', 3 - 'PESTS', 4 - 'SITES'\")\n",
    "    choice = input(\"Enter your choice (1-4): \")\n",
    "    search_field = {\n",
    "        '1': '\"REG_NUM\"',\n",
    "        '2': '\"PRODUCT_NAME\"',\n",
    "        '3': '\"PESTS\"',\n",
    "        '4': '\"SITES\"'\n",
    "    }.get(choice, '\"PRODUCT_NAME\"')  # Default to PRODUCT_NAME if invalid choice\n",
    "\n",
    "    search_term = input(f\"Enter your search term for {search_field}: \")\n",
    "    registered_pesticides = get_registered_pesticides(search_field, search_term)\n",
    "    \n",
    "    if registered_pesticides:\n",
    "        print(f\"Registered pesticides for {search_term}:\")\n",
    "        for pesticide in registered_pesticides:\n",
    "            print(f\"Product Name: {pesticide[0]}, Company: {pesticide[1]}, Registration Number: {pesticide[2]}, Pests: {pesticide[3]}, Sites: {pesticide[4]}\")\n",
    "    else:\n",
    "        print(f\"No registered pesticides found for {search_term}\")\n",
    "\n",
    "if __name__ == \"__main__\":\n",
    "    main()\n"
   ],
   "metadata": {
    "collapsed": false,
    "ExecuteTime": {
     "end_time": "2023-11-12T00:58:49.862276325Z",
     "start_time": "2023-11-12T00:58:39.192491879Z"
    }
   },
   "id": "596a216aa417d325"
  },
  {
   "cell_type": "code",
   "execution_count": null,
   "outputs": [],
   "source": [],
   "metadata": {
    "collapsed": false
   },
   "id": "d71dfe9f1f46d44f"
  }
 ],
 "metadata": {
  "kernelspec": {
   "display_name": "Python 3",
   "language": "python",
   "name": "python3"
  },
  "language_info": {
   "codemirror_mode": {
    "name": "ipython",
    "version": 2
   },
   "file_extension": ".py",
   "mimetype": "text/x-python",
   "name": "python",
   "nbconvert_exporter": "python",
   "pygments_lexer": "ipython2",
   "version": "2.7.6"
  }
 },
 "nbformat": 4,
 "nbformat_minor": 5
}
