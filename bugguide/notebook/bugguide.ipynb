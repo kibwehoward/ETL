{
 "cells": [
  {
   "cell_type": "code",
   "execution_count": 1,
   "outputs": [
    {
     "name": "stdout",
     "output_type": "stream",
     "text": [
      "Genus\tSpecies\tFamily\tOrder\tBugGuideID\tURL\tCommon Name\n",
      "Cryptocercus\tpunctulatus\tCryptocercidae\tBlattodea\t574\thttps://bugguide.net/node/view/574\tBrown-hooded Cockroach\n",
      "Pseudomops\tseptentrionalis\tEctobiidae\tBlattodea\t7856\thttps://bugguide.net/node/view/7856\tPale Bordered Field Cockroach\n",
      "Pycnoscelus\tsurinamensis\tBlaberidae\tBlattodea\t16867\thttps://bugguide.net/node/view/16867\tSurinam Cockroach\n",
      "Ectobius\tlapponicus\tEctobiidae\tBlattodea\t26906\thttps://bugguide.net/node/view/26906\tDusky Cockroach\n",
      "Periplaneta\taustralasiae\tBlattidae\tBlattodea\t31621\thttps://bugguide.net/node/view/31621\tAustralian Cockroach\n",
      "Periplaneta\tamericana\tBlattidae\tBlattodea\t31622\thttps://bugguide.net/node/view/31622\tAmerican Cockroach\n",
      "Panchlora\tnivea\tBlaberidae\tBlattodea\t31689\thttps://bugguide.net/node/view/31689\tGreen Banana Cockroach\n",
      "Eurycotis\tfloridana\tBlattidae\tBlattodea\t33678\thttps://bugguide.net/node/view/33678\tFlorida Woods Cockroach\n",
      "Blattella\tasahinai\tEctobiidae\tBlattodea\t33854\thttps://bugguide.net/node/view/33854\tAsian Cockroach\n",
      "Blatta\torientalis\tBlattidae\tBlattodea\t33932\thttps://bugguide.net/node/view/33932\tOriental Cockroach\n",
      "Blattella\tgermanica\tEctobiidae\tBlattodea\t70688\thttps://bugguide.net/node/view/70688\tGerman Cockroach\n",
      "Reticulitermes\tflavipes\tRhinotermitidae\tBlattodea\t71259\thttps://bugguide.net/node/view/71259\tEastern Subterranean Termite\n",
      "Zootermopsis\tangusticollis\tArchotermopsidae\tBlattodea\t75929\thttps://bugguide.net/node/view/75929\tPacific Dampwood Termite\n",
      "Gnathamitermes\tperplexus\tTermitidae\tBlattodea\t82394\thttps://bugguide.net/node/view/82394\tLong-jawed Desert Termites\n",
      "Supella\tlongipalpa\tEctobiidae\tBlattodea\t85725\thttps://bugguide.net/node/view/85725\tBrown-banded Cockroach\n",
      "Parcoblatta\tvirginica\tEctobiidae\tBlattodea\t115134\thttps://bugguide.net/node/view/115134\tVirginia Wood Cockroach\n",
      "Periplaneta\tfuliginosa\tBlattidae\tBlattodea\t115161\thttps://bugguide.net/node/view/115161\tSmoky Brown Cockroach\n",
      "Parcoblatta\tpennsylvanica\tEctobiidae\tBlattodea\t115969\thttps://bugguide.net/node/view/115969\tPennsylvania Wood Cockroach\n",
      "Shelfordella\tlateralis\tBlattidae\tBlattodea\t146445\thttps://bugguide.net/node/view/146445\tTurkestan Cockroach\n",
      "Ectobius\tpallidus\tEctobiidae\tBlattodea\t148079\thttps://bugguide.net/node/view/148079\tSpotted Mediterranean Cockroach\n",
      "Ectobius\tsylvestris\tEctobiidae\tBlattodea\t161813\thttps://bugguide.net/node/view/161813\tForest Cockroach\n",
      "Zootermopsis\tnevadensis\tArchotermopsidae\tBlattodea\t162746\thttps://bugguide.net/node/view/162746\tNevada Dampwood Termite\n",
      "Reticulitermes\thesperus\tRhinotermitidae\tBlattodea\t183940\thttps://bugguide.net/node/view/183940\tWestern Subterranean Termite\n",
      "Arenivaga\tbolliana\tCorydiidae\tBlattodea\t214973\thttps://bugguide.net/node/view/214973\tBoll's Sandroach\n",
      "Parcoblatta\tamericana\tEctobiidae\tBlattodea\t228482\thttps://bugguide.net/node/view/228482\tAmerican Wood Cockroach\n",
      "Euthlastoblatta\tabortiva\tEctobiidae\tBlattodea\t270852\thttps://bugguide.net/node/view/270852\tFragile Cockroach\n",
      "Blattella\tvaga\tEctobiidae\tBlattodea\t331787\thttps://bugguide.net/node/view/331787\tField Cockroach\n",
      "Luridiblatta\ttrivittata\tEctobiidae\tBlattodea\t341215\thttps://bugguide.net/node/view/341215\tLuridiblatta trivittata\n",
      "Zootermopsis\tlaticeps\tArchotermopsidae\tBlattodea\t349770\thttps://bugguide.net/node/view/349770\tArizona Dampwood Termite\n",
      "Ischnoptera\tderopeltiformis\tEctobiidae\tBlattodea\t350628\thttps://bugguide.net/node/view/350628\tDark Wood Cockroach\n",
      "Tenuirostritermes\tcinereus\tTermitidae\tBlattodea\t353276\thttps://bugguide.net/node/view/353276\tTenuirostritermes cinereus\n",
      "Chorisoneura\ttexensis\tEctobiidae\tBlattodea\t361040\thttps://bugguide.net/node/view/361040\tSmall Yellow Texas Cockroach\n",
      "Cariblatta\tlutea\tEctobiidae\tBlattodea\t361044\thttps://bugguide.net/node/view/361044\tSmall Yellow Cockroach\n",
      "Marginitermes\thubbardi\tKalotermitidae\tBlattodea\t378482\thttps://bugguide.net/node/view/378482\tLight Western Drywood Termite\n",
      "Reticulitermes\thageni\tRhinotermitidae\tBlattodea\t382425\thttps://bugguide.net/node/view/382425\tLight Southern Subterranean Termite\n",
      "Parcoblatta\tfulvescens\tEctobiidae\tBlattodea\t384919\thttps://bugguide.net/node/view/384919\tFulvous Wood Cockroach\n",
      "Eremoblatta\tsubdiaphana\tCorydiidae\tBlattodea\t385897\thttps://bugguide.net/node/view/385897\tEremoblatta subdiaphana\n",
      "Coptotermes\tformosanus\tRhinotermitidae\tBlattodea\t397332\thttps://bugguide.net/node/view/397332\tFormosan Subterranean Termite\n",
      "Parcoblatta\tdivisa\tEctobiidae\tBlattodea\t418629\thttps://bugguide.net/node/view/418629\tSouthern Wood Cockroach\n",
      "Aglaopteryx\tgemma\tEctobiidae\tBlattodea\t441818\thttps://bugguide.net/node/view/441818\tLittle Gem Cockroach\n",
      "Plectoptera\tpicta\tEctobiidae\tBlattodea\t454747\thttps://bugguide.net/node/view/454747\tPlectoptera picta\n",
      "Neotermes\tcastaneus\tKalotermitidae\tBlattodea\t468508\thttps://bugguide.net/node/view/468508\tFlorida Dampwood Termite\n",
      "Incisitermes\tminor\tKalotermitidae\tBlattodea\t469117\thttps://bugguide.net/node/view/469117\tWestern Drywood Termite\n",
      "Periplaneta\tbrunnea\tBlattidae\tBlattodea\t516597\thttps://bugguide.net/node/view/516597\tBrown Cockroach\n",
      "Arenivaga\terratica\tCorydiidae\tBlattodea\t553906\thttps://bugguide.net/node/view/553906\tArenivaga erratica\n",
      "Arenivaga\tgenitalis\tCorydiidae\tBlattodea\t617436\thttps://bugguide.net/node/view/617436\tArenivaga genitalis\n",
      "Arenivaga\thopkinsorum\tCorydiidae\tBlattodea\t617437\thttps://bugguide.net/node/view/617437\tArenivaga hopkinsorum\n",
      "Blaberus\tatropos\tBlaberidae\tBlattodea\t624254\thttps://bugguide.net/node/view/624254\tBlaberus atropos\n",
      "Parcoblatta\tuhleriana\tEctobiidae\tBlattodea\t646831\thttps://bugguide.net/node/view/646831\tUhler's Wood Cockroach\n",
      "Ischnoptera\tbilunata\tEctobiidae\tBlattodea\t696657\thttps://bugguide.net/node/view/696657\tIschnoptera bilunata\n",
      "Nauphoeta\tcinerea\tBlaberidae\tBlattodea\t704867\thttps://bugguide.net/node/view/704867\tLobster Cockroach\n",
      "Arenivaga\tinvestigata\tCorydiidae\tBlattodea\t706362\thttps://bugguide.net/node/view/706362\tArenivaga investigata\n",
      "Arenivaga\ttonkawa\tCorydiidae\tBlattodea\t724704\thttps://bugguide.net/node/view/724704\tArenivaga tonkawa\n",
      "Cryptocercus\tclevelandi\tCryptocercidae\tBlattodea\t730303\thttps://bugguide.net/node/view/730303\tCryptocercus clevelandi\n",
      "Cryptocercus\tdarwini\tCryptocercidae\tBlattodea\t730354\thttps://bugguide.net/node/view/730354\tCryptocercus darwini\n",
      "Cryptocercus\tgarciai\tCryptocercidae\tBlattodea\t730356\thttps://bugguide.net/node/view/730356\tCryptocercus garciai\n",
      "Cryptocercus\twrighti\tCryptocercidae\tBlattodea\t730357\thttps://bugguide.net/node/view/730357\tCryptocercus wrighti\n",
      "Arenivaga\tsequoia\tCorydiidae\tBlattodea\t739803\thttps://bugguide.net/node/view/739803\tArenivaga sequoia\n",
      "Parcoblatta\tbolliana\tEctobiidae\tBlattodea\t829762\thttps://bugguide.net/node/view/829762\tBoll's Wood Cockroach\n",
      "Parcoblatta\tlata\tEctobiidae\tBlattodea\t857234\thttps://bugguide.net/node/view/857234\tBroad Wood Cockroach\n",
      "Arenivaga\ttenax\tCorydiidae\tBlattodea\t869745\thttps://bugguide.net/node/view/869745\tArenivaga tenax\n",
      "Ectobius\tlucidus\tEctobiidae\tBlattodea\t898700\thttps://bugguide.net/node/view/898700\tEctobius lucidus\n",
      "Epilampra\tmaya\tBlaberidae\tBlattodea\t940194\thttps://bugguide.net/node/view/940194\tEpilampra maya\n",
      "Eurycotis\tlixa\tBlattidae\tBlattodea\t940249\thttps://bugguide.net/node/view/940249\tEurycotis lixa\n",
      "Blaberus\tdiscoidalis\tBlaberidae\tBlattodea\t940269\thttps://bugguide.net/node/view/940269\tBlaberus discoidalis\n",
      "Neoblattella\tdetersa\tEctobiidae\tBlattodea\t940273\thttps://bugguide.net/node/view/940273\tNeoblattella detersa\n",
      "Compsodes\tschwarzi\tCorydiidae\tBlattodea\t950069\thttps://bugguide.net/node/view/950069\tSchwarz's Hooded Cockroach\n",
      "Blaberus\tcraniifer\tBlaberidae\tBlattodea\t950385\thttps://bugguide.net/node/view/950385\tDeath's Head Cockroach\n",
      "Latiblattella\tlucifrons\tEctobiidae\tBlattodea\t1005539\thttps://bugguide.net/node/view/1005539\tLatiblattella lucifrons\n",
      "Latiblattella\trehni\tEctobiidae\tBlattodea\t1005540\thttps://bugguide.net/node/view/1005540\tLatiblattella rehni\n",
      "Parcoblatta\tcaudelli\tEctobiidae\tBlattodea\t1005628\thttps://bugguide.net/node/view/1005628\tCaudell's Wood Cockroach\n",
      "Parcoblatta\tdesertae\tEctobiidae\tBlattodea\t1014463\thttps://bugguide.net/node/view/1014463\tDesert Wood Cockroach\n",
      "Chorisoneura\tparishi\tEctobiidae\tBlattodea\t1022426\thttps://bugguide.net/node/view/1022426\tChorisoneura parishi\n",
      "Arenivaga\tfloridensis\tCorydiidae\tBlattodea\t1036236\thttps://bugguide.net/node/view/1036236\tFlorida Sand Cockroach\n",
      "Parcoblatta\tzebra\tEctobiidae\tBlattodea\t1037402\thttps://bugguide.net/node/view/1037402\tZebra Wood Cockroach\n",
      "Plectoptera\tpoeyi\tEctobiidae\tBlattodea\t1071902\thttps://bugguide.net/node/view/1071902\tFlorida Beetle Cockroach\n",
      "Arenivaga\tgaiophanes\tCorydiidae\tBlattodea\t1084759\thttps://bugguide.net/node/view/1084759\tArenivaga gaiophanes\n",
      "Arenivaga\tapacha\tCorydiidae\tBlattodea\t1084760\thttps://bugguide.net/node/view/1084760\tArenivaga apacha\n",
      "Hemiblabera\ttenebricosa\tBlaberidae\tBlattodea\t1152802\thttps://bugguide.net/node/view/1152802\tBroad Keys Cockroach\n",
      "Cariblatta\tminima\tEctobiidae\tBlattodea\t1216977\thttps://bugguide.net/node/view/1216977\tLeast Yellow Cockroach\n",
      "Parcoblatta\tnotha\tEctobiidae\tBlattodea\t1230330\thttps://bugguide.net/node/view/1230330\tArizona Wood Cockroach\n",
      "Symploce\tmorsei\tEctobiidae\tBlattodea\t1327558\thttps://bugguide.net/node/view/1327558\tSymploce morsei\n",
      "Neostylopyga\trhombifolia\tBlattidae\tBlattodea\t1352306\thttps://bugguide.net/node/view/1352306\tHarlequin Cockroach\n",
      "Kalotermes\tapproximatus\tKalotermitidae\tBlattodea\t1632364\thttps://bugguide.net/node/view/1632364\tDark Southern Drywood Termite\n",
      "Anoplotermes\tfumosus\tTermitidae\tBlattodea\t1632650\thttps://bugguide.net/node/view/1632650\tAnoplotermes fumosus\n",
      "Calcaritermes\tnearcticus\tKalotermitidae\tBlattodea\t1632657\thttps://bugguide.net/node/view/1632657\tCalcaritermes nearcticus\n",
      "Incisitermes\tsnyderi\tKalotermitidae\tBlattodea\t1632660\thttps://bugguide.net/node/view/1632660\tLight Southeastern Drywood Termite\n",
      "Tenuirostritermes\ttenuirostris\tTermitidae\tBlattodea\t1632738\thttps://bugguide.net/node/view/1632738\tTenuirostritermes tenuirostris\n",
      "Incisitermes\tbanksi\tKalotermitidae\tBlattodea\t1632739\thttps://bugguide.net/node/view/1632739\tIncisitermes banksi\n",
      "Pterotermes\toccidentis\tKalotermitidae\tBlattodea\t1632992\thttps://bugguide.net/node/view/1632992\tPterotermes occidentis\n",
      "Neotermes\tjouteli\tKalotermitidae\tBlattodea\t1633059\thttps://bugguide.net/node/view/1633059\tCoastal Florida Dampwood Termite\n",
      "Attaphila\tfungicola\tEctobiidae\tBlattodea\t1638767\thttps://bugguide.net/node/view/1638767\tAnt Cockroach\n",
      "Reticulitermes\ttibialis\tRhinotermitidae\tBlattodea\t1640931\thttps://bugguide.net/node/view/1640931\tArid-Land Subterranean Termite\n",
      "Paraneotermes\tsimplicicornis\tKalotermitidae\tBlattodea\t1641290\thttps://bugguide.net/node/view/1641290\tDesert Dampwood Termite\n",
      "Amitermes\twheeleri\tTermitidae\tBlattodea\t1643147\thttps://bugguide.net/node/view/1643147\tWheeler's Desert Termite\n",
      "Amitermes\tminimus\tTermitidae\tBlattodea\t1643164\thttps://bugguide.net/node/view/1643164\tAmitermes minimus\n",
      "Amitermes\tparvulus\tTermitidae\tBlattodea\t1651936\thttps://bugguide.net/node/view/1651936\tAmitermes parvulus\n",
      "Cryptotermes\tcavifrons\tKalotermitidae\tBlattodea\t1671529\thttps://bugguide.net/node/view/1671529\tCryptotermes cavifrons\n",
      "Incisitermes\tschwarzi\tKalotermitidae\tBlattodea\t1672203\thttps://bugguide.net/node/view/1672203\tIncisitermes schwarzi\n",
      "Myrmecoblatta\twheeleri\tCorydiidae\tBlattodea\t1784133\thttps://bugguide.net/node/view/1784133\tMyrmecoblatta wheeleri\n",
      "Capraiellus\tpanzeri\tEctobiidae\tBlattodea\t2031513\thttps://bugguide.net/node/view/2031513\tCapraiellus panzeri\n",
      "Heterotermes\taureus\tRhinotermitidae\tBlattodea\t2103589\thttps://bugguide.net/node/view/2103589\tDesert Subterranean Termite\n",
      "Cryptotermes\tbrevis\tKalotermitidae\tBlattodea\t2115939\thttps://bugguide.net/node/view/2115939\tWest Indian Drywood Termite\n",
      "Incisitermes\tarizonensis\tKalotermitidae\tBlattodea\t2175579\thttps://bugguide.net/node/view/2175579\tIncisitermes arizonensis\n",
      "Periplaneta\tjaponica\tBlattidae\tBlattodea\t2247956\thttps://bugguide.net/node/view/2247956\tPeriplaneta japonica\n"
     ]
    }
   ],
   "source": [
    "import requests\n",
    "import json\n",
    "\n",
    "url = \"https://api.bugguide.net/taxonomy/Blattodea.txt\"\n",
    "response = requests.get(url)\n",
    "\n",
    "# Convert the response to a Python dictionary (if it's JSON)\n",
    "try:\n",
    "    data = response.json()\n",
    "    # Pretty print the JSON data\n",
    "    print(json.dumps(data, indent=4))\n",
    "except ValueError:\n",
    "    # If response is not in JSON format\n",
    "    print(response.text)\n"
   ],
   "metadata": {
    "collapsed": false,
    "ExecuteTime": {
     "end_time": "2023-11-27T00:03:03.493126492Z",
     "start_time": "2023-11-27T00:03:02.940267884Z"
    }
   },
   "id": "aff229d7012d1662"
  },
  {
   "cell_type": "code",
   "execution_count": 11,
   "outputs": [
    {
     "name": "stdout",
     "output_type": "stream",
     "text": [
      "Successfully Connected\n"
     ]
    }
   ],
   "source": [
    "import psycopg2\n",
    "from db_config import db_credentials\n",
    "\n",
    "u, p, h, port, db = db_credentials.values()\n",
    "\n",
    "def connect_to_postgresql():\n",
    "    try:\n",
    "        connection = psycopg2.connect(\n",
    "            user=u,\n",
    "            password=p,\n",
    "            host=h,\n",
    "            port=port,\n",
    "            database=db\n",
    "        )\n",
    "        \n",
    "        # Check if the connection is successful\n",
    "        if connection:\n",
    "            print(\"Successfully Connected\")\n",
    "        return connection\n",
    "\n",
    "    except Exception as error:\n",
    "        print(f\"Error while connecting to PostgreSQL: {error}\")\n",
    "        return None\n",
    "\n",
    "# Test the function\n",
    "connection = connect_to_postgresql()\n",
    "\n",
    "# Close the connection after use\n",
    "if connection:\n",
    "    connection.close()"
   ],
   "metadata": {
    "collapsed": false,
    "ExecuteTime": {
     "end_time": "2023-11-10T20:24:16.381861434Z",
     "start_time": "2023-11-10T20:24:16.272435111Z"
    }
   },
   "id": "12ec97898f4bd3c1"
  },
  {
   "cell_type": "code",
   "execution_count": 12,
   "outputs": [
    {
     "name": "stdout",
     "output_type": "stream",
     "text": [
      "There are 40511 rows in the 'bugguide' table.\n"
     ]
    }
   ],
   "source": [
    "import psycopg2\n",
    "from db_config import db_credentials\n",
    "\n",
    "u, p, h, port, db = db_credentials.values()\n",
    "\n",
    "def get_row_count(table_name):\n",
    "    try:\n",
    "        connection = psycopg2.connect(\n",
    "            user=u,\n",
    "            password=p,\n",
    "            host=h,\n",
    "            port=port,\n",
    "            database=db\n",
    "        )\n",
    "\n",
    "        cursor = connection.cursor()\n",
    "        cursor.execute(f\"SELECT COUNT(*) FROM \\\"{table_name}\\\"\")  # Table name enclosed in double quotes\n",
    "        count = cursor.fetchone()[0]\n",
    "\n",
    "        print(f\"There are {count} rows in the '{table_name}' table.\")\n",
    "\n",
    "        # Close cursor and connection\n",
    "        cursor.close()\n",
    "        connection.close()\n",
    "\n",
    "        return count\n",
    "\n",
    "    except Exception as error:\n",
    "        print(f\"Error: {error}\")\n",
    "        return None\n",
    "\n",
    "# Replace 'your_table_name' with the name of your table\n",
    "row_count = get_row_count('bugguide')\n"
   ],
   "metadata": {
    "collapsed": false,
    "ExecuteTime": {
     "end_time": "2023-11-10T20:24:16.503293211Z",
     "start_time": "2023-11-10T20:24:16.378023080Z"
    }
   },
   "id": "9d15cf0b06c33191"
  },
  {
   "cell_type": "code",
   "execution_count": 13,
   "outputs": [
    {
     "name": "stdout",
     "output_type": "stream",
     "text": [
      "The table 'bugguide' has 8 columns.\n",
      "Columns: Number, Genus, Species, Family, Order, BugGuideID, URL, CommonName\n"
     ]
    }
   ],
   "source": [
    "import psycopg2\n",
    "from db_config import db_credentials\n",
    "\n",
    "u, p, h, port, db = db_credentials.values()\n",
    "\n",
    "def list_and_count_columns(table_name):\n",
    "    try:\n",
    "        connection = psycopg2.connect(\n",
    "            user=u,\n",
    "            password=p,\n",
    "            host=h,\n",
    "            port=port,\n",
    "            database=db\n",
    "        )\n",
    "\n",
    "        cursor = connection.cursor()\n",
    "\n",
    "        # Query to get column names\n",
    "        cursor.execute(f\"SELECT column_name FROM information_schema.columns WHERE table_name = '{table_name}'\")\n",
    "        columns = [row[0] for row in cursor.fetchall()]\n",
    "\n",
    "        # Counting the columns\n",
    "        num_columns = len(columns)\n",
    "\n",
    "        print(f\"The table '{table_name}' has {num_columns} columns.\")\n",
    "        print(f\"Columns: {', '.join(columns)}\")\n",
    "\n",
    "        # Close cursor and connection\n",
    "        cursor.close()\n",
    "        connection.close()\n",
    "\n",
    "        return num_columns, columns\n",
    "\n",
    "    except Exception as error:\n",
    "        print(f\"Error: {error}\")\n",
    "        return None, []\n",
    "\n",
    "# Replace 'your_table_name' with the name of your table\n",
    "num_columns, columns_list = list_and_count_columns('bugguide')\n"
   ],
   "metadata": {
    "collapsed": false,
    "ExecuteTime": {
     "end_time": "2023-11-10T20:24:16.641809819Z",
     "start_time": "2023-11-10T20:24:16.498089025Z"
    }
   },
   "id": "ff70fe58355cf489"
  },
  {
   "cell_type": "code",
   "execution_count": 14,
   "outputs": [
    {
     "data": {
      "text/plain": "      Number           Genus          Species           Family      Order  \\\n0          1    Cryptocercus      punctulatus   Cryptocercidae  Blattodea   \n1          2      Pseudomops  septentrionalis       Ectobiidae  Blattodea   \n2          3     Pycnoscelus     surinamensis       Blaberidae  Blattodea   \n3          4        Ectobius       lapponicus       Ectobiidae  Blattodea   \n4          5     Periplaneta     australasiae        Blattidae  Blattodea   \n...      ...             ...              ...              ...        ...   \n40506  40507     Mirolepisma      deserticola     Lepismatidae  Zygentoma   \n40507  40508       Nicoletia         wheeleri     Nicoletiidae  Zygentoma   \n40508  40509  Tricholepidion         gertschi  Lepidotrichidae  Zygentoma   \n40509  40510    Leucolepisma        arenarium     Lepismatidae  Zygentoma   \n40510  40511    Allacrotelsa        spinulata     Lepismatidae  Zygentoma   \n\n      BugGuideID                                     URL  \\\n0            574      https://bugguide.net/node/view/574   \n1           7856     https://bugguide.net/node/view/7856   \n2          16867    https://bugguide.net/node/view/16867   \n3          26906    https://bugguide.net/node/view/26906   \n4          31621    https://bugguide.net/node/view/31621   \n...          ...                                     ...   \n40506     389939   https://bugguide.net/node/view/389939   \n40507    1088532  https://bugguide.net/node/view/1088532   \n40508    1264432  https://bugguide.net/node/view/1264432   \n40509    1362001  https://bugguide.net/node/view/1362001   \n40510    1917458  https://bugguide.net/node/view/1917458   \n\n                          CommonName  \n0             Brown-hooded Cockroach  \n1      Pale Bordered Field Cockroach  \n2                  Surinam Cockroach  \n3                    Dusky Cockroach  \n4               Australian Cockroach  \n...                              ...  \n40506        Mirolepisma deserticola  \n40507             Nicoletia wheeleri  \n40508              Relict Silverfish  \n40509         Leucolepisma arenarium  \n40510         Allacrotelsa spinulata  \n\n[40511 rows x 8 columns]",
      "text/html": "<div>\n<style scoped>\n    .dataframe tbody tr th:only-of-type {\n        vertical-align: middle;\n    }\n\n    .dataframe tbody tr th {\n        vertical-align: top;\n    }\n\n    .dataframe thead th {\n        text-align: right;\n    }\n</style>\n<table border=\"1\" class=\"dataframe\">\n  <thead>\n    <tr style=\"text-align: right;\">\n      <th></th>\n      <th>Number</th>\n      <th>Genus</th>\n      <th>Species</th>\n      <th>Family</th>\n      <th>Order</th>\n      <th>BugGuideID</th>\n      <th>URL</th>\n      <th>CommonName</th>\n    </tr>\n  </thead>\n  <tbody>\n    <tr>\n      <th>0</th>\n      <td>1</td>\n      <td>Cryptocercus</td>\n      <td>punctulatus</td>\n      <td>Cryptocercidae</td>\n      <td>Blattodea</td>\n      <td>574</td>\n      <td>https://bugguide.net/node/view/574</td>\n      <td>Brown-hooded Cockroach</td>\n    </tr>\n    <tr>\n      <th>1</th>\n      <td>2</td>\n      <td>Pseudomops</td>\n      <td>septentrionalis</td>\n      <td>Ectobiidae</td>\n      <td>Blattodea</td>\n      <td>7856</td>\n      <td>https://bugguide.net/node/view/7856</td>\n      <td>Pale Bordered Field Cockroach</td>\n    </tr>\n    <tr>\n      <th>2</th>\n      <td>3</td>\n      <td>Pycnoscelus</td>\n      <td>surinamensis</td>\n      <td>Blaberidae</td>\n      <td>Blattodea</td>\n      <td>16867</td>\n      <td>https://bugguide.net/node/view/16867</td>\n      <td>Surinam Cockroach</td>\n    </tr>\n    <tr>\n      <th>3</th>\n      <td>4</td>\n      <td>Ectobius</td>\n      <td>lapponicus</td>\n      <td>Ectobiidae</td>\n      <td>Blattodea</td>\n      <td>26906</td>\n      <td>https://bugguide.net/node/view/26906</td>\n      <td>Dusky Cockroach</td>\n    </tr>\n    <tr>\n      <th>4</th>\n      <td>5</td>\n      <td>Periplaneta</td>\n      <td>australasiae</td>\n      <td>Blattidae</td>\n      <td>Blattodea</td>\n      <td>31621</td>\n      <td>https://bugguide.net/node/view/31621</td>\n      <td>Australian Cockroach</td>\n    </tr>\n    <tr>\n      <th>...</th>\n      <td>...</td>\n      <td>...</td>\n      <td>...</td>\n      <td>...</td>\n      <td>...</td>\n      <td>...</td>\n      <td>...</td>\n      <td>...</td>\n    </tr>\n    <tr>\n      <th>40506</th>\n      <td>40507</td>\n      <td>Mirolepisma</td>\n      <td>deserticola</td>\n      <td>Lepismatidae</td>\n      <td>Zygentoma</td>\n      <td>389939</td>\n      <td>https://bugguide.net/node/view/389939</td>\n      <td>Mirolepisma deserticola</td>\n    </tr>\n    <tr>\n      <th>40507</th>\n      <td>40508</td>\n      <td>Nicoletia</td>\n      <td>wheeleri</td>\n      <td>Nicoletiidae</td>\n      <td>Zygentoma</td>\n      <td>1088532</td>\n      <td>https://bugguide.net/node/view/1088532</td>\n      <td>Nicoletia wheeleri</td>\n    </tr>\n    <tr>\n      <th>40508</th>\n      <td>40509</td>\n      <td>Tricholepidion</td>\n      <td>gertschi</td>\n      <td>Lepidotrichidae</td>\n      <td>Zygentoma</td>\n      <td>1264432</td>\n      <td>https://bugguide.net/node/view/1264432</td>\n      <td>Relict Silverfish</td>\n    </tr>\n    <tr>\n      <th>40509</th>\n      <td>40510</td>\n      <td>Leucolepisma</td>\n      <td>arenarium</td>\n      <td>Lepismatidae</td>\n      <td>Zygentoma</td>\n      <td>1362001</td>\n      <td>https://bugguide.net/node/view/1362001</td>\n      <td>Leucolepisma arenarium</td>\n    </tr>\n    <tr>\n      <th>40510</th>\n      <td>40511</td>\n      <td>Allacrotelsa</td>\n      <td>spinulata</td>\n      <td>Lepismatidae</td>\n      <td>Zygentoma</td>\n      <td>1917458</td>\n      <td>https://bugguide.net/node/view/1917458</td>\n      <td>Allacrotelsa spinulata</td>\n    </tr>\n  </tbody>\n</table>\n<p>40511 rows × 8 columns</p>\n</div>"
     },
     "execution_count": 14,
     "metadata": {},
     "output_type": "execute_result"
    }
   ],
   "source": [
    "import pandas as pd\n",
    "from sqlalchemy import create_engine\n",
    "from db_config import db_credentials\n",
    "\n",
    "# Database connection setup\n",
    "u, p, h, port, db = db_credentials.values()\n",
    "engine_url = f\"postgresql+psycopg2://{u}:{p}@{h}:{port}/{db}\"\n",
    "engine = create_engine(engine_url)\n",
    "\n",
    "datasets = [\n",
    "    # 'service_requests',\n",
    "    'bugguide',\n",
    "]\n",
    "\n",
    "for dataset in datasets:\n",
    "    sql_query = f'SELECT * FROM \"{dataset}\"'\n",
    "    df = pd.read_sql(sql_query, engine)\n",
    "\n",
    "df"
   ],
   "metadata": {
    "collapsed": false,
    "ExecuteTime": {
     "end_time": "2023-11-10T20:24:19.295023277Z",
     "start_time": "2023-11-10T20:24:16.641304468Z"
    }
   },
   "id": "7ecd45e41fed09d5"
  },
  {
   "cell_type": "code",
   "execution_count": null,
   "outputs": [],
   "source": [],
   "metadata": {
    "collapsed": false
   },
   "id": "122de555045f845a"
  }
 ],
 "metadata": {
  "kernelspec": {
   "display_name": "Python 3",
   "language": "python",
   "name": "python3"
  },
  "language_info": {
   "codemirror_mode": {
    "name": "ipython",
    "version": 2
   },
   "file_extension": ".py",
   "mimetype": "text/x-python",
   "name": "python",
   "nbconvert_exporter": "python",
   "pygments_lexer": "ipython2",
   "version": "2.7.6"
  }
 },
 "nbformat": 4,
 "nbformat_minor": 5
}
